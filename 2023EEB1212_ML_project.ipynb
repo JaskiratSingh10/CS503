{
  "nbformat": 4,
  "nbformat_minor": 0,
  "metadata": {
    "colab": {
      "provenance": [],
      "include_colab_link": true
    },
    "kernelspec": {
      "name": "python3",
      "display_name": "Python 3"
    },
    "language_info": {
      "name": "python"
    }
  },
  "cells": [
    {
      "cell_type": "markdown",
      "metadata": {
        "id": "view-in-github",
        "colab_type": "text"
      },
      "source": [
        "<a href=\"https://colab.research.google.com/github/JaskiratSingh10/CS503/blob/main/2023EEB1212_ML_project.ipynb\" target=\"_parent\"><img src=\"https://colab.research.google.com/assets/colab-badge.svg\" alt=\"Open In Colab\"/></a>"
      ]
    },
    {
      "cell_type": "code",
      "execution_count": null,
      "metadata": {
        "id": "hkfo40ef_nFq"
      },
      "outputs": [],
      "source": [
        "import pandas as pd\n",
        "from sklearn.model_selection import train_test_split\n",
        "from sklearn.linear_model import LinearRegression, Ridge\n",
        "from sklearn.linear_model import Lasso\n",
        "from sklearn.preprocessing import StandardScaler\n",
        "from sklearn.metrics import mean_squared_error, r2_score"
      ]
    },
    {
      "cell_type": "code",
      "source": [
        "data=pd.read_csv('WHO.csv')"
      ],
      "metadata": {
        "id": "ndKInpGyAPUo"
      },
      "execution_count": null,
      "outputs": []
    },
    {
      "cell_type": "markdown",
      "source": [
        "Data exploration"
      ],
      "metadata": {
        "id": "4rZaLJgNAtuP"
      }
    },
    {
      "cell_type": "code",
      "source": [
        "print(data.head())\n",
        "print(data.shape)"
      ],
      "metadata": {
        "colab": {
          "base_uri": "https://localhost:8080/"
        },
        "id": "eTyz5hpgAzjz",
        "outputId": "f65ae7ab-4ae2-44ab-88bd-d897eace7907",
        "collapsed": true
      },
      "execution_count": null,
      "outputs": [
        {
          "output_type": "stream",
          "name": "stdout",
          "text": [
            "   Year  Life expectancy   Adult Mortality  infant deaths  Alcohol  \\\n",
            "0  2015              65.0              263             62     0.01   \n",
            "1  2014              59.9              271             64     0.01   \n",
            "2  2013              59.9              268             66     0.01   \n",
            "3  2012              59.5              272             69     0.01   \n",
            "4  2011              59.2              275             71     0.01   \n",
            "\n",
            "   percentage expenditure  Hepatitis B  Measles    BMI   under-five deaths   \\\n",
            "0               71.279624           65      1154   19.1                  83   \n",
            "1               73.523582           62       492   18.6                  86   \n",
            "2               73.219243           64       430   18.1                  89   \n",
            "3               78.184215           67      2787   17.6                  93   \n",
            "4                7.097109           68      3013   17.2                  97   \n",
            "\n",
            "   Polio  Total expenditure  Diphtheria    HIV/AIDS         GDP  Population  \\\n",
            "0      6               8.16           65        0.1  584.259210  33736494.0   \n",
            "1     58               8.18           62        0.1  612.696514    327582.0   \n",
            "2     62               8.13           64        0.1  631.744976  31731688.0   \n",
            "3     67               8.52           67        0.1  669.959000   3696958.0   \n",
            "4     68               7.87           68        0.1   63.537231   2978599.0   \n",
            "\n",
            "    thinness  1-19 years   thinness 5-9 years  \\\n",
            "0                   17.2                 17.3   \n",
            "1                   17.5                 17.5   \n",
            "2                   17.7                 17.7   \n",
            "3                   17.9                 18.0   \n",
            "4                   18.2                 18.2   \n",
            "\n",
            "   Income composition of resources  Schooling  \n",
            "0                            0.479       10.1  \n",
            "1                            0.476       10.0  \n",
            "2                            0.470        9.9  \n",
            "3                            0.463        9.8  \n",
            "4                            0.454        9.5  \n",
            "(2938, 20)\n"
          ]
        }
      ]
    },
    {
      "cell_type": "markdown",
      "source": [
        "Data Cleaning"
      ],
      "metadata": {
        "id": "6ylaTDO7AyNo"
      }
    },
    {
      "cell_type": "code",
      "source": [
        "data = data.drop(data.columns[0], axis=1)\n",
        "print(data.head())"
      ],
      "metadata": {
        "colab": {
          "base_uri": "https://localhost:8080/"
        },
        "collapsed": true,
        "id": "emPg-DsdA-6E",
        "outputId": "7a5ba4a3-6776-427c-f43b-3916f38dbf18"
      },
      "execution_count": null,
      "outputs": [
        {
          "output_type": "stream",
          "name": "stdout",
          "text": [
            "   Life expectancy   Adult Mortality  infant deaths  Alcohol  \\\n",
            "0              65.0              263             62     0.01   \n",
            "1              59.9              271             64     0.01   \n",
            "2              59.9              268             66     0.01   \n",
            "3              59.5              272             69     0.01   \n",
            "4              59.2              275             71     0.01   \n",
            "\n",
            "   percentage expenditure  Hepatitis B  Measles    BMI   under-five deaths   \\\n",
            "0               71.279624           65      1154   19.1                  83   \n",
            "1               73.523582           62       492   18.6                  86   \n",
            "2               73.219243           64       430   18.1                  89   \n",
            "3               78.184215           67      2787   17.6                  93   \n",
            "4                7.097109           68      3013   17.2                  97   \n",
            "\n",
            "   Polio  Total expenditure  Diphtheria    HIV/AIDS         GDP  Population  \\\n",
            "0      6               8.16           65        0.1  584.259210  33736494.0   \n",
            "1     58               8.18           62        0.1  612.696514    327582.0   \n",
            "2     62               8.13           64        0.1  631.744976  31731688.0   \n",
            "3     67               8.52           67        0.1  669.959000   3696958.0   \n",
            "4     68               7.87           68        0.1   63.537231   2978599.0   \n",
            "\n",
            "    thinness  1-19 years   thinness 5-9 years  \\\n",
            "0                   17.2                 17.3   \n",
            "1                   17.5                 17.5   \n",
            "2                   17.7                 17.7   \n",
            "3                   17.9                 18.0   \n",
            "4                   18.2                 18.2   \n",
            "\n",
            "   Income composition of resources  Schooling  \n",
            "0                            0.479       10.1  \n",
            "1                            0.476       10.0  \n",
            "2                            0.470        9.9  \n",
            "3                            0.463        9.8  \n",
            "4                            0.454        9.5  \n"
          ]
        }
      ]
    },
    {
      "cell_type": "code",
      "source": [
        "print(data.isnull().sum()) #checking for null values\n",
        "#output shows there are no missing values in any of the columns."
      ],
      "metadata": {
        "colab": {
          "base_uri": "https://localhost:8080/"
        },
        "collapsed": true,
        "id": "wNEpXDryDld2",
        "outputId": "5a2ec58a-fc98-4e11-ca73-1e1513ff6df9"
      },
      "execution_count": null,
      "outputs": [
        {
          "output_type": "stream",
          "name": "stdout",
          "text": [
            "Life expectancy                    0\n",
            "Adult Mortality                    0\n",
            "infant deaths                      0\n",
            "Alcohol                            0\n",
            "percentage expenditure             0\n",
            "Hepatitis B                        0\n",
            "Measles                            0\n",
            " BMI                               0\n",
            "under-five deaths                  0\n",
            "Polio                              0\n",
            "Total expenditure                  0\n",
            "Diphtheria                         0\n",
            " HIV/AIDS                          0\n",
            "GDP                                0\n",
            "Population                         0\n",
            " thinness  1-19 years              0\n",
            " thinness 5-9 years                0\n",
            "Income composition of resources    0\n",
            "Schooling                          0\n",
            "dtype: int64\n"
          ]
        }
      ]
    },
    {
      "cell_type": "markdown",
      "source": [
        "Selection of Algorithm"
      ],
      "metadata": {
        "id": "CsBWvmeaYquY"
      }
    },
    {
      "cell_type": "markdown",
      "source": [
        "Evaluating the performance of the Linear Regression."
      ],
      "metadata": {
        "id": "fAAzAZ0KAOVL"
      }
    },
    {
      "cell_type": "code",
      "source": [
        "# Define the independent variables (features) and the target variable\n",
        "X = data.drop(columns=['Life expectancy '])\n",
        "y = data['Life expectancy ']\n",
        "\n",
        "# Split the data into training and testing sets\n",
        "X_train, X_test, y_train, y_test = train_test_split(X, y, test_size=0.2, random_state=42)\n",
        "\n",
        "# Initialize the Linear Regression model\n",
        "linear_model = LinearRegression()\n",
        "\n",
        "# Train the Linear Regression model\n",
        "linear_model.fit(X_train, y_train)\n",
        "\n",
        "# Make predictions with Linear Regression\n",
        "y_pred_linear = linear_model.predict(X_test)\n",
        "\n",
        "# Evaluate the Linear Regression model\n",
        "mse_linear = mean_squared_error(y_test, y_pred_linear)\n",
        "r2_linear = r2_score(y_test, y_pred_linear)\n",
        "\n",
        "print(f'Linear Regression - Mean Squared Error: {mse_linear}, R^2 Score: {r2_linear}')"
      ],
      "metadata": {
        "colab": {
          "base_uri": "https://localhost:8080/"
        },
        "id": "OncuC5XhKSdP",
        "outputId": "02d1765e-83c6-46ce-d0a3-b0822e141ca5"
      },
      "execution_count": null,
      "outputs": [
        {
          "output_type": "stream",
          "name": "stdout",
          "text": [
            "Linear Regression - Mean Squared Error: 15.41715948457191, R^2 Score: 0.8221111322546619\n"
          ]
        }
      ]
    },
    {
      "cell_type": "markdown",
      "source": [
        "Evaluating the performance of Ridge Regression.\n",
        "\n"
      ],
      "metadata": {
        "id": "dLtfNyv4jLGI"
      }
    },
    {
      "cell_type": "code",
      "source": [
        "import matplotlib.pyplot as plt\n",
        "import numpy as np\n",
        "\n",
        "X = data.drop(columns=['Life expectancy '])\n",
        "y = data['Life expectancy ']\n",
        "\n",
        "# Split the data into training and testing sets\n",
        "X_train, X_test, y_train, y_test = train_test_split(X, y, test_size=0.2, random_state=42)\n",
        "\n",
        "# Define a range of alpha values to test\n",
        "alphas = np.logspace(-1, 2, 50)  # 50 values between 0.01 and 100\n",
        "\n",
        "mse_values = []\n",
        "r2_values = []\n",
        "\n",
        "# Loop through alpha values, train the model, and calculate metrics\n",
        "for alpha in alphas:\n",
        "    ridge_model = Ridge(alpha=alpha)\n",
        "    ridge_model.fit(X_train, y_train)\n",
        "    y_pred_ridge = ridge_model.predict(X_test)\n",
        "\n",
        "    mse_values.append(mean_squared_error(y_test, y_pred_ridge))\n",
        "    r2_values.append(r2_score(y_test, y_pred_ridge))\n",
        "\n",
        "# Create the plots\n",
        "fig, (ax1, ax2) = plt.subplots(1, 2, figsize=(12, 6))\n",
        "\n",
        "# Plot alpha vs. MSE\n",
        "ax1.plot(alphas, mse_values, marker='o')\n",
        "ax1.set_xscale('log')  # Use log scale for alpha\n",
        "ax1.set_xlabel('Alpha')\n",
        "ax1.set_ylabel('Mean Squared Error (MSE)')\n",
        "ax1.set_title('Alpha vs. MSE')\n",
        "\n",
        "# Plot alpha vs. R-squared\n",
        "ax2.plot(alphas, r2_values, marker='o', color='red')\n",
        "ax2.set_xscale('log')  # Use log scale for alpha\n",
        "ax2.set_xlabel('Alpha')\n",
        "ax2.set_ylabel('R-squared')\n",
        "ax2.set_title('Alpha vs. R-squared')\n",
        "\n",
        "plt.tight_layout()\n",
        "plt.show()"
      ],
      "metadata": {
        "colab": {
          "base_uri": "https://localhost:8080/",
          "height": 1000
        },
        "id": "_sb_o91PbBUj",
        "outputId": "dd5e6dcd-e4cb-49a8-a338-5f7b2d88d2d2"
      },
      "execution_count": null,
      "outputs": [
        {
          "output_type": "stream",
          "name": "stderr",
          "text": [
            "/usr/local/lib/python3.10/dist-packages/sklearn/linear_model/_ridge.py:216: LinAlgWarning: Ill-conditioned matrix (rcond=5.30386e-18): result may not be accurate.\n",
            "  return linalg.solve(A, Xy, assume_a=\"pos\", overwrite_a=True).T\n",
            "/usr/local/lib/python3.10/dist-packages/sklearn/linear_model/_ridge.py:216: LinAlgWarning: Ill-conditioned matrix (rcond=5.30645e-18): result may not be accurate.\n",
            "  return linalg.solve(A, Xy, assume_a=\"pos\", overwrite_a=True).T\n",
            "/usr/local/lib/python3.10/dist-packages/sklearn/linear_model/_ridge.py:216: LinAlgWarning: Ill-conditioned matrix (rcond=5.30944e-18): result may not be accurate.\n",
            "  return linalg.solve(A, Xy, assume_a=\"pos\", overwrite_a=True).T\n",
            "/usr/local/lib/python3.10/dist-packages/sklearn/linear_model/_ridge.py:216: LinAlgWarning: Ill-conditioned matrix (rcond=5.31288e-18): result may not be accurate.\n",
            "  return linalg.solve(A, Xy, assume_a=\"pos\", overwrite_a=True).T\n",
            "/usr/local/lib/python3.10/dist-packages/sklearn/linear_model/_ridge.py:216: LinAlgWarning: Ill-conditioned matrix (rcond=5.31684e-18): result may not be accurate.\n",
            "  return linalg.solve(A, Xy, assume_a=\"pos\", overwrite_a=True).T\n",
            "/usr/local/lib/python3.10/dist-packages/sklearn/linear_model/_ridge.py:216: LinAlgWarning: Ill-conditioned matrix (rcond=5.3214e-18): result may not be accurate.\n",
            "  return linalg.solve(A, Xy, assume_a=\"pos\", overwrite_a=True).T\n",
            "/usr/local/lib/python3.10/dist-packages/sklearn/linear_model/_ridge.py:216: LinAlgWarning: Ill-conditioned matrix (rcond=5.32665e-18): result may not be accurate.\n",
            "  return linalg.solve(A, Xy, assume_a=\"pos\", overwrite_a=True).T\n",
            "/usr/local/lib/python3.10/dist-packages/sklearn/linear_model/_ridge.py:216: LinAlgWarning: Ill-conditioned matrix (rcond=5.33269e-18): result may not be accurate.\n",
            "  return linalg.solve(A, Xy, assume_a=\"pos\", overwrite_a=True).T\n",
            "/usr/local/lib/python3.10/dist-packages/sklearn/linear_model/_ridge.py:216: LinAlgWarning: Ill-conditioned matrix (rcond=5.33965e-18): result may not be accurate.\n",
            "  return linalg.solve(A, Xy, assume_a=\"pos\", overwrite_a=True).T\n",
            "/usr/local/lib/python3.10/dist-packages/sklearn/linear_model/_ridge.py:216: LinAlgWarning: Ill-conditioned matrix (rcond=5.34766e-18): result may not be accurate.\n",
            "  return linalg.solve(A, Xy, assume_a=\"pos\", overwrite_a=True).T\n",
            "/usr/local/lib/python3.10/dist-packages/sklearn/linear_model/_ridge.py:216: LinAlgWarning: Ill-conditioned matrix (rcond=5.35689e-18): result may not be accurate.\n",
            "  return linalg.solve(A, Xy, assume_a=\"pos\", overwrite_a=True).T\n",
            "/usr/local/lib/python3.10/dist-packages/sklearn/linear_model/_ridge.py:216: LinAlgWarning: Ill-conditioned matrix (rcond=5.36751e-18): result may not be accurate.\n",
            "  return linalg.solve(A, Xy, assume_a=\"pos\", overwrite_a=True).T\n",
            "/usr/local/lib/python3.10/dist-packages/sklearn/linear_model/_ridge.py:216: LinAlgWarning: Ill-conditioned matrix (rcond=5.37974e-18): result may not be accurate.\n",
            "  return linalg.solve(A, Xy, assume_a=\"pos\", overwrite_a=True).T\n",
            "/usr/local/lib/python3.10/dist-packages/sklearn/linear_model/_ridge.py:216: LinAlgWarning: Ill-conditioned matrix (rcond=5.39383e-18): result may not be accurate.\n",
            "  return linalg.solve(A, Xy, assume_a=\"pos\", overwrite_a=True).T\n",
            "/usr/local/lib/python3.10/dist-packages/sklearn/linear_model/_ridge.py:216: LinAlgWarning: Ill-conditioned matrix (rcond=5.41004e-18): result may not be accurate.\n",
            "  return linalg.solve(A, Xy, assume_a=\"pos\", overwrite_a=True).T\n",
            "/usr/local/lib/python3.10/dist-packages/sklearn/linear_model/_ridge.py:216: LinAlgWarning: Ill-conditioned matrix (rcond=5.42871e-18): result may not be accurate.\n",
            "  return linalg.solve(A, Xy, assume_a=\"pos\", overwrite_a=True).T\n",
            "/usr/local/lib/python3.10/dist-packages/sklearn/linear_model/_ridge.py:216: LinAlgWarning: Ill-conditioned matrix (rcond=5.45021e-18): result may not be accurate.\n",
            "  return linalg.solve(A, Xy, assume_a=\"pos\", overwrite_a=True).T\n",
            "/usr/local/lib/python3.10/dist-packages/sklearn/linear_model/_ridge.py:216: LinAlgWarning: Ill-conditioned matrix (rcond=5.47496e-18): result may not be accurate.\n",
            "  return linalg.solve(A, Xy, assume_a=\"pos\", overwrite_a=True).T\n",
            "/usr/local/lib/python3.10/dist-packages/sklearn/linear_model/_ridge.py:216: LinAlgWarning: Ill-conditioned matrix (rcond=5.50345e-18): result may not be accurate.\n",
            "  return linalg.solve(A, Xy, assume_a=\"pos\", overwrite_a=True).T\n",
            "/usr/local/lib/python3.10/dist-packages/sklearn/linear_model/_ridge.py:216: LinAlgWarning: Ill-conditioned matrix (rcond=5.53627e-18): result may not be accurate.\n",
            "  return linalg.solve(A, Xy, assume_a=\"pos\", overwrite_a=True).T\n",
            "/usr/local/lib/python3.10/dist-packages/sklearn/linear_model/_ridge.py:216: LinAlgWarning: Ill-conditioned matrix (rcond=5.57405e-18): result may not be accurate.\n",
            "  return linalg.solve(A, Xy, assume_a=\"pos\", overwrite_a=True).T\n",
            "/usr/local/lib/python3.10/dist-packages/sklearn/linear_model/_ridge.py:216: LinAlgWarning: Ill-conditioned matrix (rcond=5.61755e-18): result may not be accurate.\n",
            "  return linalg.solve(A, Xy, assume_a=\"pos\", overwrite_a=True).T\n",
            "/usr/local/lib/python3.10/dist-packages/sklearn/linear_model/_ridge.py:216: LinAlgWarning: Ill-conditioned matrix (rcond=5.66763e-18): result may not be accurate.\n",
            "  return linalg.solve(A, Xy, assume_a=\"pos\", overwrite_a=True).T\n",
            "/usr/local/lib/python3.10/dist-packages/sklearn/linear_model/_ridge.py:216: LinAlgWarning: Ill-conditioned matrix (rcond=5.7253e-18): result may not be accurate.\n",
            "  return linalg.solve(A, Xy, assume_a=\"pos\", overwrite_a=True).T\n",
            "/usr/local/lib/python3.10/dist-packages/sklearn/linear_model/_ridge.py:216: LinAlgWarning: Ill-conditioned matrix (rcond=5.7917e-18): result may not be accurate.\n",
            "  return linalg.solve(A, Xy, assume_a=\"pos\", overwrite_a=True).T\n",
            "/usr/local/lib/python3.10/dist-packages/sklearn/linear_model/_ridge.py:216: LinAlgWarning: Ill-conditioned matrix (rcond=5.86815e-18): result may not be accurate.\n",
            "  return linalg.solve(A, Xy, assume_a=\"pos\", overwrite_a=True).T\n",
            "/usr/local/lib/python3.10/dist-packages/sklearn/linear_model/_ridge.py:216: LinAlgWarning: Ill-conditioned matrix (rcond=5.95618e-18): result may not be accurate.\n",
            "  return linalg.solve(A, Xy, assume_a=\"pos\", overwrite_a=True).T\n",
            "/usr/local/lib/python3.10/dist-packages/sklearn/linear_model/_ridge.py:216: LinAlgWarning: Ill-conditioned matrix (rcond=6.05753e-18): result may not be accurate.\n",
            "  return linalg.solve(A, Xy, assume_a=\"pos\", overwrite_a=True).T\n",
            "/usr/local/lib/python3.10/dist-packages/sklearn/linear_model/_ridge.py:216: LinAlgWarning: Ill-conditioned matrix (rcond=6.17423e-18): result may not be accurate.\n",
            "  return linalg.solve(A, Xy, assume_a=\"pos\", overwrite_a=True).T\n",
            "/usr/local/lib/python3.10/dist-packages/sklearn/linear_model/_ridge.py:216: LinAlgWarning: Ill-conditioned matrix (rcond=6.3086e-18): result may not be accurate.\n",
            "  return linalg.solve(A, Xy, assume_a=\"pos\", overwrite_a=True).T\n",
            "/usr/local/lib/python3.10/dist-packages/sklearn/linear_model/_ridge.py:216: LinAlgWarning: Ill-conditioned matrix (rcond=6.46331e-18): result may not be accurate.\n",
            "  return linalg.solve(A, Xy, assume_a=\"pos\", overwrite_a=True).T\n",
            "/usr/local/lib/python3.10/dist-packages/sklearn/linear_model/_ridge.py:216: LinAlgWarning: Ill-conditioned matrix (rcond=6.64144e-18): result may not be accurate.\n",
            "  return linalg.solve(A, Xy, assume_a=\"pos\", overwrite_a=True).T\n",
            "/usr/local/lib/python3.10/dist-packages/sklearn/linear_model/_ridge.py:216: LinAlgWarning: Ill-conditioned matrix (rcond=6.84654e-18): result may not be accurate.\n",
            "  return linalg.solve(A, Xy, assume_a=\"pos\", overwrite_a=True).T\n",
            "/usr/local/lib/python3.10/dist-packages/sklearn/linear_model/_ridge.py:216: LinAlgWarning: Ill-conditioned matrix (rcond=7.0827e-18): result may not be accurate.\n",
            "  return linalg.solve(A, Xy, assume_a=\"pos\", overwrite_a=True).T\n",
            "/usr/local/lib/python3.10/dist-packages/sklearn/linear_model/_ridge.py:216: LinAlgWarning: Ill-conditioned matrix (rcond=7.35461e-18): result may not be accurate.\n",
            "  return linalg.solve(A, Xy, assume_a=\"pos\", overwrite_a=True).T\n",
            "/usr/local/lib/python3.10/dist-packages/sklearn/linear_model/_ridge.py:216: LinAlgWarning: Ill-conditioned matrix (rcond=7.66769e-18): result may not be accurate.\n",
            "  return linalg.solve(A, Xy, assume_a=\"pos\", overwrite_a=True).T\n",
            "/usr/local/lib/python3.10/dist-packages/sklearn/linear_model/_ridge.py:216: LinAlgWarning: Ill-conditioned matrix (rcond=8.02818e-18): result may not be accurate.\n",
            "  return linalg.solve(A, Xy, assume_a=\"pos\", overwrite_a=True).T\n",
            "/usr/local/lib/python3.10/dist-packages/sklearn/linear_model/_ridge.py:216: LinAlgWarning: Ill-conditioned matrix (rcond=8.44324e-18): result may not be accurate.\n",
            "  return linalg.solve(A, Xy, assume_a=\"pos\", overwrite_a=True).T\n",
            "/usr/local/lib/python3.10/dist-packages/sklearn/linear_model/_ridge.py:216: LinAlgWarning: Ill-conditioned matrix (rcond=8.92115e-18): result may not be accurate.\n",
            "  return linalg.solve(A, Xy, assume_a=\"pos\", overwrite_a=True).T\n",
            "/usr/local/lib/python3.10/dist-packages/sklearn/linear_model/_ridge.py:216: LinAlgWarning: Ill-conditioned matrix (rcond=9.47143e-18): result may not be accurate.\n",
            "  return linalg.solve(A, Xy, assume_a=\"pos\", overwrite_a=True).T\n",
            "/usr/local/lib/python3.10/dist-packages/sklearn/linear_model/_ridge.py:216: LinAlgWarning: Ill-conditioned matrix (rcond=1.0105e-17): result may not be accurate.\n",
            "  return linalg.solve(A, Xy, assume_a=\"pos\", overwrite_a=True).T\n",
            "/usr/local/lib/python3.10/dist-packages/sklearn/linear_model/_ridge.py:216: LinAlgWarning: Ill-conditioned matrix (rcond=1.08346e-17): result may not be accurate.\n",
            "  return linalg.solve(A, Xy, assume_a=\"pos\", overwrite_a=True).T\n",
            "/usr/local/lib/python3.10/dist-packages/sklearn/linear_model/_ridge.py:216: LinAlgWarning: Ill-conditioned matrix (rcond=1.16746e-17): result may not be accurate.\n",
            "  return linalg.solve(A, Xy, assume_a=\"pos\", overwrite_a=True).T\n",
            "/usr/local/lib/python3.10/dist-packages/sklearn/linear_model/_ridge.py:216: LinAlgWarning: Ill-conditioned matrix (rcond=1.26418e-17): result may not be accurate.\n",
            "  return linalg.solve(A, Xy, assume_a=\"pos\", overwrite_a=True).T\n",
            "/usr/local/lib/python3.10/dist-packages/sklearn/linear_model/_ridge.py:216: LinAlgWarning: Ill-conditioned matrix (rcond=1.37554e-17): result may not be accurate.\n",
            "  return linalg.solve(A, Xy, assume_a=\"pos\", overwrite_a=True).T\n",
            "/usr/local/lib/python3.10/dist-packages/sklearn/linear_model/_ridge.py:216: LinAlgWarning: Ill-conditioned matrix (rcond=1.50378e-17): result may not be accurate.\n",
            "  return linalg.solve(A, Xy, assume_a=\"pos\", overwrite_a=True).T\n",
            "/usr/local/lib/python3.10/dist-packages/sklearn/linear_model/_ridge.py:216: LinAlgWarning: Ill-conditioned matrix (rcond=1.65143e-17): result may not be accurate.\n",
            "  return linalg.solve(A, Xy, assume_a=\"pos\", overwrite_a=True).T\n",
            "/usr/local/lib/python3.10/dist-packages/sklearn/linear_model/_ridge.py:216: LinAlgWarning: Ill-conditioned matrix (rcond=1.82145e-17): result may not be accurate.\n",
            "  return linalg.solve(A, Xy, assume_a=\"pos\", overwrite_a=True).T\n",
            "/usr/local/lib/python3.10/dist-packages/sklearn/linear_model/_ridge.py:216: LinAlgWarning: Ill-conditioned matrix (rcond=2.01722e-17): result may not be accurate.\n",
            "  return linalg.solve(A, Xy, assume_a=\"pos\", overwrite_a=True).T\n",
            "/usr/local/lib/python3.10/dist-packages/sklearn/linear_model/_ridge.py:216: LinAlgWarning: Ill-conditioned matrix (rcond=2.24264e-17): result may not be accurate.\n",
            "  return linalg.solve(A, Xy, assume_a=\"pos\", overwrite_a=True).T\n"
          ]
        },
        {
          "output_type": "display_data",
          "data": {
            "text/plain": [
              "<Figure size 1200x600 with 2 Axes>"
            ],
            "image/png": "[encoded data removed]"
          },
          "metadata": {}
        }
      ]
    },
    {
      "cell_type": "code",
      "source": [
        "'''as shown by the graph we can test the values of 50>alpha>1'''\n",
        "ridge_model = Ridge(alpha=18) #value of alpha manually found out for minimum MSE\n",
        "\n",
        "# Train the Ridge Regression model\n",
        "ridge_model.fit(X_train, y_train)\n",
        "\n",
        "# Make predictions with Ridge Regression\n",
        "y_pred_ridge = ridge_model.predict(X_test)\n",
        "\n",
        "# Evaluate the Ridge Regression model\n",
        "mse_ridge = mean_squared_error(y_test, y_pred_ridge)\n",
        "r2_ridge = r2_score(y_test, y_pred_ridge)\n",
        "\n",
        "print(f'Ridge Regression - Mean Squared Error: {mse_ridge}, R^2 Score: {r2_ridge}')\n"
      ],
      "metadata": {
        "colab": {
          "base_uri": "https://localhost:8080/"
        },
        "id": "v3uhbqSbffIv",
        "outputId": "4e2cd115-36de-4c86-979b-bf227df871bd"
      },
      "execution_count": null,
      "outputs": [
        {
          "output_type": "stream",
          "name": "stdout",
          "text": [
            "Ridge Regression - Mean Squared Error: 15.316454788064437, R^2 Score: 0.8232731001551873\n"
          ]
        },
        {
          "output_type": "stream",
          "name": "stderr",
          "text": [
            "/usr/local/lib/python3.10/dist-packages/sklearn/linear_model/_ridge.py:216: LinAlgWarning: Ill-conditioned matrix (rcond=8.37115e-18): result may not be accurate.\n",
            "  return linalg.solve(A, Xy, assume_a=\"pos\", overwrite_a=True).T\n"
          ]
        }
      ]
    },
    {
      "cell_type": "markdown",
      "source": [
        "trying for lasso regression"
      ],
      "metadata": {
        "id": "hpgPplY3NrtU"
      }
    },
    {
      "cell_type": "code",
      "source": [
        "# X = data.drop(columns=[\"Life expectancy \"])\n",
        "# y = data[\"Life expectancy \"]\n",
        "\n",
        "# # Standardize the features for Lasso, as it’s sensitive to scale\n",
        "# scaler = StandardScaler()\n",
        "# X_scaled = scaler.fit_transform(X)\n",
        "\n",
        "# # Split the data into training and validation sets\n",
        "# X_train, X_val, y_train, y_val = train_test_split(X_scaled, y, test_size=0.2, random_state=42)\n",
        "\n",
        "# # Initialize and train Lasso Regression model with alpha = 1\n",
        "# lasso = Lasso(alpha=0.1)\n",
        "# lasso.fit(X_train, y_train)\n",
        "\n",
        "# # Predict on the validation set\n",
        "# y_pred_lasso = lasso.predict(X_val)\n",
        "\n",
        "# # Calculate Mean Squared Error and R^2 Score\n",
        "# lasso_mse = mean_squared_error(y_val, y_pred_lasso)\n",
        "# lasso_r2 = r2_score(y_val, y_pred_lasso)\n",
        "\n",
        "# print(\"Lasso Regression - Mean Squared Error:\", lasso_mse)\n",
        "# print(\"Lasso Regression - R^2 Score:\", lasso_r2)"
      ],
      "metadata": {
        "colab": {
          "base_uri": "https://localhost:8080/"
        },
        "id": "6ZfZz8lYNuO7",
        "outputId": "7be7628c-36f6-4173-97ed-8aa01fde9e48"
      },
      "execution_count": null,
      "outputs": [
        {
          "output_type": "stream",
          "name": "stdout",
          "text": [
            "Lasso Regression - Mean Squared Error: 16.481828753005992\n",
            "Lasso Regression - R^2 Score: 0.8098265858779754\n"
          ]
        }
      ]
    },
    {
      "cell_type": "code",
      "source": [],
      "metadata": {
        "id": "KLqZ0JJah3W7"
      },
      "execution_count": null,
      "outputs": []
    },
    {
      "cell_type": "markdown",
      "source": [
        "Hence for alpha=18,\n",
        "Ridge Regression - Mean Squared Error: 15.316454788064437, R^2 Score: 0.8232731001551873\n",
        "performed best"
      ],
      "metadata": {
        "id": "DK8UUSrpWBX-"
      }
    },
    {
      "cell_type": "markdown",
      "source": [
        "**INFRENCES**"
      ],
      "metadata": {
        "id": "i2lYZZXNi8XT"
      }
    },
    {
      "cell_type": "markdown",
      "source": [
        "Calculating the weights for their corresponding feature labels"
      ],
      "metadata": {
        "id": "8aEt0BA8iuEc"
      }
    },
    {
      "cell_type": "code",
      "source": [
        "# Get the coefficients\n",
        "coefficients = ridge_model.coef_\n",
        "\n",
        "# Create a DataFrame for better visualization\n",
        "coef_df = pd.DataFrame({\n",
        "    'Feature': X.columns,\n",
        "    'Coefficient': coefficients\n",
        "})\n",
        "\n",
        "print(coef_df)"
      ],
      "metadata": {
        "colab": {
          "base_uri": "https://localhost:8080/"
        },
        "id": "2P6_4lH9iNis",
        "outputId": "3459342a-59ff-40f1-c715-f3de2943af09"
      },
      "execution_count": null,
      "outputs": [
        {
          "output_type": "stream",
          "name": "stdout",
          "text": [
            "                            Feature   Coefficient\n",
            "0                   Adult Mortality -2.149202e-02\n",
            "1                     infant deaths  9.988357e-02\n",
            "2                           Alcohol  1.224678e-01\n",
            "3            percentage expenditure  6.630811e-05\n",
            "4                       Hepatitis B -1.922166e-02\n",
            "5                          Measles  -2.491508e-05\n",
            "6                              BMI   4.104712e-02\n",
            "7                under-five deaths  -7.399413e-02\n",
            "8                             Polio  2.803072e-02\n",
            "9                 Total expenditure  5.482980e-02\n",
            "10                      Diphtheria   4.198802e-02\n",
            "11                         HIV/AIDS -4.643849e-01\n",
            "12                              GDP  4.988251e-05\n",
            "13                       Population -1.374883e-09\n",
            "14             thinness  1-19 years -1.049447e-01\n",
            "15               thinness 5-9 years  9.420913e-03\n",
            "16  Income composition of resources  4.069396e+00\n",
            "17                        Schooling  7.476104e-01\n"
          ]
        }
      ]
    },
    {
      "cell_type": "markdown",
      "source": [
        "\n",
        "testing on data available for india in 2014\n",
        "\n"
      ],
      "metadata": {
        "id": "36Q5PWAGUEWZ"
      }
    },
    {
      "cell_type": "code",
      "source": [
        "import numpy as np\n",
        "# Assuming your Ridge model is already trained and named 'ridge_model'\n",
        "# Also assuming you have a scaler named 'scaler' used for standardizing the features\n",
        "scaler = StandardScaler()\n",
        "X_train_scaled = scaler.fit_transform(X_train)\n",
        "X_test_scaled = scaler.transform(X_test)\n",
        "\n",
        "# Initialize the Ridge Regression model with alpha=15\n",
        "ridge_model = Ridge(alpha=18)\n",
        "\n",
        "# Train the Ridge Regression model\n",
        "ridge_model.fit(X_train_scaled, y_train)\n",
        "\n",
        "def predict_life_expectancy():\n",
        "    # Define the feature names\n",
        "    feature_names = [\n",
        "        'Adult Mortality', 'infant deaths', 'Alcohol', 'percentage expenditure',\n",
        "        'Hepatitis B', 'Measles', 'BMI', 'under-five deaths', 'Polio',\n",
        "        'Total expenditure', 'Diphtheria', 'HIV/AIDS', 'GDP', 'Population',\n",
        "        'thinness 1-19 years', 'thinness 5-9 years', 'Income composition of resources', 'Schooling'\n",
        "    ]\n",
        "\n",
        "    # Initialize an empty list to store the input features\n",
        "    input_features = []\n",
        "\n",
        "    # Collect input features one by one\n",
        "    for feature in feature_names:\n",
        "        value = float(input(f\"Enter value for {feature}: \"))\n",
        "        input_features.append(value)\n",
        "\n",
        "    # Convert the list to a numpy array\n",
        "    input_features = np.array(input_features)\n",
        "\n",
        "    # Standardize the input features\n",
        "    input_features_scaled = scaler.transform([input_features])\n",
        "    # Predict life expectancy\n",
        "    predicted_life_expectancy = ridge_model.predict(input_features_scaled)\n",
        "    return predicted_life_expectancy[0]"
      ],
      "metadata": {
        "id": "upUTc15WqqQv"
      },
      "execution_count": null,
      "outputs": []
    },
    {
      "cell_type": "code",
      "source": [
        "85# Example usage\n",
        "predicted_life_expectancy = predict_life_expectancy()\n",
        "print(f'Predicted Life Expectancy: {predicted_life_expectancy}')\n"
      ],
      "metadata": {
        "colab": {
          "base_uri": "https://localhost:8080/"
        },
        "id": "yFdLgHvxr9QU",
        "outputId": "5e1bb841-6108-4713-8336-d3b3710a8d5f"
      },
      "execution_count": null,
      "outputs": [
        {
          "output_type": "stream",
          "name": "stdout",
          "text": [
            "Enter value for Adult Mortality: 184\n",
            "Enter value for infant deaths: 957\n",
            "Enter value for Alcohol: 3.07\n",
            "Enter value for percentage expenditure: 86.5214\n",
            "Enter value for Hepatitis B: 79\n",
            "Enter value for Measles: 79563\n",
            "Enter value for BMI: 18.1\n",
            "Enter value for under-five deaths: 1200\n",
            "Enter value for Polio: 84\n",
            "Enter value for Total expenditure: 4.69\n",
            "Enter value for Diphtheria: 85\n",
            "Enter value for HIV/AIDS: 0.2\n",
            "Enter value for GDP: 1573.119\n",
            "Enter value for Population: 1293859294\n",
            "Enter value for thinness 1-19 years: 26.8\n",
            "Enter value for thinness 5-9 years: 27.4\n",
            "Enter value for Income composition of resources: 0.607\n",
            "Enter value for Schooling: 11.16\n",
            "Predicted Life Expectancy: 66.36861159915841\n"
          ]
        },
        {
          "output_type": "stream",
          "name": "stderr",
          "text": [
            "/usr/local/lib/python3.10/dist-packages/sklearn/base.py:493: UserWarning: X does not have valid feature names, but StandardScaler was fitted with feature names\n",
            "  warnings.warn(\n"
          ]
        }
      ]
    },
    {
      "cell_type": "markdown",
      "source": [
        "the actual life expectancy in 2014 of india was 68.0 hence the model works fine\n"
      ],
      "metadata": {
        "id": "kBqW86JpTX67"
      }
    }
  ]
}